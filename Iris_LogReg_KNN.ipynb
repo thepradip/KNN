{
 "cells": [
  {
   "cell_type": "code",
   "execution_count": null,
   "metadata": {},
   "outputs": [],
   "source": [
    "import numpy as np\n",
    "import pandas as pd\n",
    "import matplotlib.pyplot as plt\n",
    "import seaborn as sns\n",
    "\n",
    "from sklearn.datasets import load_iris\n",
    "from sklearn.model_selection import cross_val_score\n",
    "from sklearn.neighbors import KNeighborsClassifier\n",
    "\n",
    "%matplotlib inline"
   ]
  },
  {
   "cell_type": "code",
   "execution_count": null,
   "metadata": {},
   "outputs": [],
   "source": [
    "iris1 = load_iris()\n",
    "# iris1.data"
   ]
  },
  {
   "cell_type": "code",
   "execution_count": null,
   "metadata": {},
   "outputs": [],
   "source": [
    "iris1.feature_names"
   ]
  },
  {
   "cell_type": "code",
   "execution_count": null,
   "metadata": {},
   "outputs": [],
   "source": [
    "df = pd.DataFrame(iris1.data, columns = iris1.feature_names)\n",
    "df.head()"
   ]
  },
  {
   "cell_type": "code",
   "execution_count": null,
   "metadata": {},
   "outputs": [],
   "source": [
    "tgt = pd.DataFrame(iris1.target, columns = [\"TGT\"])\n",
    "tgt.head()"
   ]
  },
  {
   "cell_type": "code",
   "execution_count": null,
   "metadata": {},
   "outputs": [],
   "source": [
    "# Creating KNN classifier and cross-validation\n",
    "knn = KNeighborsClassifier(n_neighbors= 5, p = 2, metric = 'minkowski')  # p = 1 -> manhattan\n",
    "scores = cross_val_score(knn, iris1.data, iris1.target, cv = 10, scoring = 'accuracy')  # cv -> cross validation (10 splits), 'accuracy' -> classification\n",
    "print(scores)"
   ]
  },
  {
   "cell_type": "code",
   "execution_count": null,
   "metadata": {},
   "outputs": [],
   "source": [
    "# print(np.mean(scores))\n",
    "scores.mean()"
   ]
  },
  {
   "cell_type": "code",
   "execution_count": null,
   "metadata": {},
   "outputs": [],
   "source": [
    "max_score_mean = 0\n",
    "max_n_neigbors = 0\n",
    "\n",
    "for i in range(100):\n",
    "    knn = KNeighborsClassifier(n_neighbors = i + 1, p = 2, metric = 'minkowski')\n",
    "    scores = cross_val_score(knn, iris1.data, iris1.target, cv = 10, scoring = 'accuracy')\n",
    "    score_mean = scores.mean()\n",
    "    print(\"n_neigbors =\", i + 1, \": score =\", score_mean)\n",
    "    if score_mean > max_score_mean:\n",
    "          max_score_mean = score_mean\n",
    "          max_n_neigbors = i + 1\n",
    "print(\"Max score mean =\", max_score_mean, \"for n_neigbors =\", max_n_neigbors)"
   ]
  },
  {
   "cell_type": "code",
   "execution_count": null,
   "metadata": {},
   "outputs": [],
   "source": [
    "# Using n_neighbors = 13 from previous\n",
    "knn = KNeighborsClassifier(n_neighbors = 13, p = 2, metric = 'minkowski')  # p = 1 -> manhattan\n",
    "scores = cross_val_score(knn, iris1.data, iris1.target, cv = 10, scoring = 'accuracy')  # cv -> cross validation (10 splits), 'accuracy' -> classification\n",
    "print(scores)"
   ]
  }
 ],
 "metadata": {
  "kernelspec": {
   "display_name": "Python 3",
   "language": "python",
   "name": "python3"
  },
  "language_info": {
   "codemirror_mode": {
    "name": "ipython",
    "version": 3
   },
   "file_extension": ".py",
   "mimetype": "text/x-python",
   "name": "python",
   "nbconvert_exporter": "python",
   "pygments_lexer": "ipython3",
   "version": "3.7.3"
  }
 },
 "nbformat": 4,
 "nbformat_minor": 2
}
