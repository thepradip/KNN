{
 "cells": [
  {
   "cell_type": "code",
   "execution_count": 2,
   "metadata": {},
   "outputs": [],
   "source": [
    "#import  package \n",
    "import pandas as pd # data manupulation \n",
    "import numpy as np # numpy arrays\n",
    "import math        #math function pow, abs etc\n",
    "import random as rnd \n",
    "# sklean library\n",
    "from sklearn.datasets import load_iris\n",
    "from sklearn.neighbors import KNeighborsClassifier\n",
    "from sklearn.model_selection  import cross_val_score\n",
    "#plotting library\n",
    "import matplotlib.pyplot as plt\n",
    "%matplotlib inline\n"
   ]
  },
  {
   "cell_type": "code",
   "execution_count": 3,
   "metadata": {},
   "outputs": [],
   "source": [
    "# iris=pd.read_csv(\"Desktop/iris.data.csv\") \n",
    "#loading dataset\n",
    "iris=load_iris()\n",
    "x=iris.data\n",
    "y=iris.target"
   ]
  },
  {
   "cell_type": "code",
   "execution_count": 4,
   "metadata": {},
   "outputs": [
    {
     "name": "stdout",
     "output_type": "stream",
     "text": [
      "[1.         0.93333333 1.         1.         0.86666667 0.93333333\n",
      " 0.93333333 1.         1.         1.        ]\n"
     ]
    }
   ],
   "source": [
    "#creating KNN classifier & cross validation\n",
    "knn=KNeighborsClassifier(n_neighbors=5,p=2,metric='minkowski')# p=1 manhattan\n",
    "scores=cross_val_score(knn,x,y,cv=10,scoring='accuracy')\n",
    "print (scores)"
   ]
  },
  {
   "cell_type": "code",
   "execution_count": 5,
   "metadata": {},
   "outputs": [
    {
     "data": {
      "text/plain": [
       "0.9666666666666668"
      ]
     },
     "execution_count": 5,
     "metadata": {},
     "output_type": "execute_result"
    }
   ],
   "source": [
    "scores.mean()"
   ]
  },
  {
   "cell_type": "code",
   "execution_count": 6,
   "metadata": {},
   "outputs": [
    {
     "name": "stdout",
     "output_type": "stream",
     "text": [
      "[0.96, 0.9533333333333334, 0.9666666666666666, 0.9666666666666666, 0.9666666666666668, 0.9666666666666668, 0.9666666666666668, 0.9666666666666668, 0.9733333333333334, 0.9666666666666668, 0.9666666666666668, 0.9733333333333334, 0.9800000000000001, 0.9733333333333334, 0.9733333333333334, 0.9733333333333334, 0.9733333333333334, 0.9800000000000001, 0.9733333333333334, 0.9800000000000001, 0.9666666666666666, 0.9666666666666666, 0.9733333333333334, 0.96, 0.9666666666666666, 0.96, 0.9666666666666666, 0.9533333333333334, 0.9533333333333334, 0.9533333333333334, 0.9466666666666667, 0.9466666666666667, 0.9466666666666667, 0.9466666666666667, 0.9466666666666667, 0.9466666666666667, 0.9466666666666667, 0.9466666666666667, 0.9533333333333334, 0.9533333333333334, 0.9533333333333334, 0.9533333333333334, 0.9466666666666667, 0.9400000000000001, 0.9333333333333333, 0.9333333333333333, 0.9333333333333333, 0.9333333333333333, 0.9400000000000001, 0.9266666666666667, 0.9400000000000001, 0.9333333333333333, 0.9333333333333333, 0.9200000000000002, 0.9333333333333333, 0.9066666666666666, 0.9200000000000002, 0.9133333333333334, 0.9200000000000002, 0.9133333333333333, 0.9199999999999999, 0.9066666666666666, 0.9066666666666666, 0.9, 0.9, 0.8866666666666667, 0.8866666666666667, 0.8800000000000001, 0.8800000000000001, 0.8866666666666667, 0.8866666666666667, 0.8800000000000001, 0.8933333333333333, 0.8866666666666667, 0.8800000000000001, 0.8800000000000001, 0.8866666666666667, 0.8866666666666667, 0.8866666666666667, 0.8933333333333333, 0.8866666666666667, 0.9000000000000001, 0.8800000000000001, 0.8800000000000001, 0.8733333333333334, 0.8800000000000001, 0.8733333333333334, 0.8733333333333334, 0.8800000000000001, 0.6599999999999999, 0.6599999999999999, 0.6599999999999999, 0.6599999999999999, 0.6599999999999999, 0.6599999999999999, 0.6599999999999999, 0.6599999999999999, 0.6599999999999999, 0.6599999999999999]\n"
     ]
    }
   ],
   "source": [
    "#find best value for K\n",
    "k_range=range(1,100)\n",
    "k_score=[]\n",
    "for k in k_range:\n",
    "    knn=KNeighborsClassifier(n_neighbors=k)# for all k values\n",
    "    scores=cross_val_score(knn,x,y,cv=10,scoring='accuracy')\n",
    "    k_score.append(scores.mean())\n",
    "print (k_score)"
   ]
  },
  {
   "cell_type": "code",
   "execution_count": 29,
   "metadata": {
    "scrolled": true
   },
   "outputs": [
    {
     "data": {
      "text/plain": [
       "Text(0, 0.5, 'Cross Val Accuracy')"
      ]
     },
     "execution_count": 29,
     "metadata": {},
     "output_type": "execute_result"
    },
    {
     "data": {
      "image/png": "[encoded data removed]",
      "text/plain": [
       "<Figure size 432x288 with 1 Axes>"
      ]
     },
     "metadata": {
      "needs_background": "light"
     },
     "output_type": "display_data"
    }
   ],
   "source": [
    "#plotting K values to K_score\n",
    "plt.plot(k_range,k_score)\n",
    "plt.xlabel('Value of K ')\n",
    "plt.ylabel('Cross Val Accuracy')\n"
   ]
  },
  {
   "cell_type": "code",
   "execution_count": 30,
   "metadata": {},
   "outputs": [
    {
     "data": {
      "text/plain": [
       "13"
      ]
     },
     "execution_count": 30,
     "metadata": {},
     "output_type": "execute_result"
    }
   ],
   "source": [
    "#max value for k\n",
    "kk=np.argmax(k_score)\n",
    "kk+1"
   ]
  },
  {
   "cell_type": "markdown",
   "metadata": {},
   "source": [
    "# Assignment\n",
    "# calculate max score and k value ?(classs)\n",
    "# calculate eclidean and manhattan distance(next day)"
   ]
  },
  {
   "cell_type": "code",
   "execution_count": 36,
   "metadata": {},
   "outputs": [
    {
     "name": "stdout",
     "output_type": "stream",
     "text": [
      "high score is :  0.9800000000000001 of which index is : 13\n"
     ]
    }
   ],
   "source": [
    "# calculate max score mean values\n",
    "le=len(k_score)\n",
    "temp=0\n",
    "index=0\n",
    "for i in range(le):\n",
    "    if(k_score[i]>temp):\n",
    "        temp= k_score[i]\n",
    "        index=i\n",
    "            \n",
    "print(\"high score is : \",temp,\"of which index is :\",index+1)\n",
    "        \n",
    "    \n",
    "    "
   ]
  },
  {
   "cell_type": "code",
   "execution_count": null,
   "metadata": {},
   "outputs": [],
   "source": []
  },
  {
   "cell_type": "code",
   "execution_count": null,
   "metadata": {},
   "outputs": [],
   "source": []
  },
  {
   "cell_type": "code",
   "execution_count": null,
   "metadata": {},
   "outputs": [],
   "source": []
  },
  {
   "cell_type": "code",
   "execution_count": null,
   "metadata": {},
   "outputs": [],
   "source": []
  },
  {
   "cell_type": "code",
   "execution_count": null,
   "metadata": {},
   "outputs": [],
   "source": []
  },
  {
   "cell_type": "code",
   "execution_count": null,
   "metadata": {},
   "outputs": [],
   "source": []
  },
  {
   "cell_type": "code",
   "execution_count": 32,
   "metadata": {},
   "outputs": [],
   "source": [
    "def euclideanDist(X,Y, length):\n",
    "    distance = 0\n",
    "    for i in range(length):\n",
    "        distance += pow((X[i] - Y[i]), 2)\n",
    "    return math.sqrt(distance)"
   ]
  },
  {
   "cell_type": "code",
   "execution_count": 33,
   "metadata": {},
   "outputs": [],
   "source": [
    "def manhattanDist(X,Y, length):\n",
    "    distance = 0\n",
    "    for i in range(length):\n",
    "        distance += pow(abs(X[i] - Y[i]), 1)\n",
    "    return math.sqrt(distance)"
   ]
  },
  {
   "cell_type": "code",
   "execution_count": 34,
   "metadata": {},
   "outputs": [],
   "source": [
    "def minkowskiDist(X,Y, length,p):\n",
    "    distance = 0\n",
    "    for i in range(length):\n",
    "        distance += pow(abs(X[i] - Y[i]), p)\n",
    "    return math.sqrt(distance)"
   ]
  },
  {
   "cell_type": "code",
   "execution_count": 35,
   "metadata": {},
   "outputs": [
    {
     "name": "stdout",
     "output_type": "stream",
     "text": [
      "226.09953560323825\n",
      "18.083141320025124\n",
      "18.083141320025124\n"
     ]
    }
   ],
   "source": [
    "X=[1,2,3,4,100,5,-45]\n",
    "Y=[2,1,4,6,8,-200,-20]\n",
    "print(euclideanDist(X,Y,len(X)))\n",
    "print(minkowskiDist(X,Y,len(X),1))# p=1 for manhattan p=2 for euclidean\n",
    "print(manhattanDist(X,Y,len(X)))"
   ]
  },
  {
   "cell_type": "code",
   "execution_count": null,
   "metadata": {},
   "outputs": [],
   "source": [
    "\n"
   ]
  }
 ],
 "metadata": {
  "kernelspec": {
   "display_name": "Python (bellora)",
   "language": "python",
   "name": "bellora"
  },
  "language_info": {
   "codemirror_mode": {
    "name": "ipython",
    "version": 3
   },
   "file_extension": ".py",
   "mimetype": "text/x-python",
   "name": "python",
   "nbconvert_exporter": "python",
   "pygments_lexer": "ipython3",
   "version": "3.6.6"
  }
 },
 "nbformat": 4,
 "nbformat_minor": 2
}
