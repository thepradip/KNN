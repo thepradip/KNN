{
 "cells": [
  {
   "cell_type": "code",
   "execution_count": null,
   "metadata": {},
   "outputs": [],
   "source": [
    "import numpy as np\n",
    "import pandas as pd\n",
    "import matplotlib.pyplot as plt\n",
    "import seaborn as sns\n",
    "\n",
    "from sklearn.datasets import load_boston\n",
    "from sklearn.metrics import explained_variance_score\n",
    "from sklearn.model_selection import cross_val_score, train_test_split\n",
    "from sklearn.neighbors import KNeighborsRegressor\n",
    "\n",
    "%matplotlib inline"
   ]
  },
  {
   "cell_type": "code",
   "execution_count": null,
   "metadata": {},
   "outputs": [],
   "source": [
    "bos1 = load_boston()\n",
    "bos1.data"
   ]
  },
  {
   "cell_type": "code",
   "execution_count": null,
   "metadata": {},
   "outputs": [],
   "source": [
    "bos1.feature_names"
   ]
  },
  {
   "cell_type": "code",
   "execution_count": null,
   "metadata": {},
   "outputs": [],
   "source": [
    "df = pd.DataFrame(bos1.data, columns = bos1.feature_names)\n",
    "df.head()"
   ]
  },
  {
   "cell_type": "code",
   "execution_count": null,
   "metadata": {},
   "outputs": [],
   "source": [
    "tgt = pd.DataFrame(bos1.target, columns = [\"TGT\"])\n",
    "tgt.head()"
   ]
  },
  {
   "cell_type": "code",
   "execution_count": null,
   "metadata": {},
   "outputs": [],
   "source": [
    "(X_train, X_test, Y_train, Y_test) = train_test_split(df, tgt, test_size = 0.3)"
   ]
  },
  {
   "cell_type": "code",
   "execution_count": null,
   "metadata": {},
   "outputs": [],
   "source": [
    "print(\"X_train shape\", X_train.shape)\n",
    "print(\"Y_train shape\", Y_train.shape)\n",
    "print(\"X_test shape\", X_test.shape)\n",
    "print(\"Y_test shape\", Y_test.shape)"
   ]
  },
  {
   "cell_type": "code",
   "execution_count": null,
   "metadata": {},
   "outputs": [],
   "source": [
    "# Creating KNN classifier and cross-validation\n",
    "knn = KNeighborsRegressor(n_neighbors = 5, p = 2, metric = 'minkowski')  # p = 1 -> manhattan\n",
    "knn.fit(X_train, Y_train)\n",
    "# scores = explained_variance_score(knn, X_test, Y_test, cv = 10, scoring = 'max_error')  # cv -> cross validation (10 splits), 'accuracy' -> classification\n",
    "pred1 = knn.predict(X_test)\n",
    "print(pred1)"
   ]
  },
  {
   "cell_type": "code",
   "execution_count": null,
   "metadata": {},
   "outputs": [],
   "source": [
    "scores = cross_val_score(knn, X_test, Y_test, cv = 10, scoring = 'neg_mean_squared_error')\n",
    "score_mean = 0\n",
    "for x in scores:\n",
    "    score_mean += x\n",
    "print(score_mean / len(scores))"
   ]
  },
  {
   "cell_type": "code",
   "execution_count": null,
   "metadata": {},
   "outputs": [],
   "source": [
    "max_score_mean = -1000\n",
    "max_n_neigbors = 0\n",
    "\n",
    "for i in range(100):\n",
    "    knn = KNeighborsRegressor(n_neighbors = i + 1, p = 2, metric = 'minkowski')\n",
    "    knn.fit(X_train, Y_train)\n",
    "    pred1 = knn.predict(X_test)\n",
    "    scores = cross_val_score(knn, X_test, Y_test, cv = 10, scoring = 'neg_mean_squared_error')\n",
    "\n",
    "    score_tot = 0\n",
    "    for x in scores:\n",
    "        score_tot += x\n",
    "    score_mean = score_tot / len(scores)\n",
    "    \n",
    "    print(\"n_neigbors =\", i + 1, \": score =\", score_mean)\n",
    "    if score_mean > max_score_mean:\n",
    "          max_score_mean = score_mean\n",
    "          max_n_neigbors = i + 1\n",
    "print(\"Max score mean =\", max_score_mean, \"for n_neigbors =\", max_n_neigbors)"
   ]
  }
 ],
 "metadata": {
  "kernelspec": {
   "display_name": "Python 3",
   "language": "python",
   "name": "python3"
  },
  "language_info": {
   "codemirror_mode": {
    "name": "ipython",
    "version": 3
   },
   "file_extension": ".py",
   "mimetype": "text/x-python",
   "name": "python",
   "nbconvert_exporter": "python",
   "pygments_lexer": "ipython3",
   "version": "3.7.3"
  }
 },
 "nbformat": 4,
 "nbformat_minor": 2
}
